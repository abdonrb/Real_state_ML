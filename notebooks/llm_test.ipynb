{
 "cells": [
  {
   "cell_type": "code",
   "execution_count": 29,
   "id": "ce1ccb8c",
   "metadata": {},
   "outputs": [],
   "source": [
    "from google import genai\n",
    "from google.genai import types\n",
    "import sqlite3\n",
    "import pandas as pd"
   ]
  },
  {
   "cell_type": "code",
   "execution_count": 30,
   "id": "41d5ad31",
   "metadata": {},
   "outputs": [],
   "source": [
    "# from dotenv import load_dotenv\n",
    "# import os\n",
    "\n",
    "# # Cargar el archivo .env\n",
    "# load_dotenv()\n",
    "\n",
    "# # Obtener las variables\n",
    "# api_key = os.getenv(\"GOOGLE_API_KEY\")\n",
    "# prompt = os.getenv(\"PROMPT\").replace(\"\\\\n\", \"\\n\")"
   ]
  },
  {
   "cell_type": "code",
   "execution_count": 31,
   "id": "7df3e31f",
   "metadata": {},
   "outputs": [],
   "source": [
    "from google.api_core import retry\n",
    "\n",
    "is_retriable = lambda e: (isinstance(e, genai.errors.APIError) and e.code in {429, 503})\n",
    "\n",
    "if not hasattr(genai.models.Models.generate_content, '__wrapped__'):\n",
    "  genai.models.Models.generate_content = retry.Retry(\n",
    "      predicate=is_retriable)(genai.models.Models.generate_content)"
   ]
  },
  {
   "cell_type": "code",
   "execution_count": null,
   "id": "881be4ee",
   "metadata": {},
   "outputs": [],
   "source": []
  },
  {
   "cell_type": "code",
   "execution_count": 33,
   "id": "a25986ba",
   "metadata": {},
   "outputs": [],
   "source": [
    "db_file = \"real_estate.db\"\n",
    "# Name of the table\n",
    "table_name = \"properties\"             \n",
    "\n",
    "# Read CSV with pandas \n",
    "df = pd.read_parquet(r'..\\data\\raw\\realtor-data-clean-lat-lng.parquet')\n",
    "\n",
    "# Connect to database\n",
    "db_conn = sqlite3.connect(db_file)\n",
    "\n",
    "# Initialize cursor for database interaction\n",
    "cursor = db_conn.cursor()"
   ]
  },
  {
   "cell_type": "code",
   "execution_count": 34,
   "id": "5e643037",
   "metadata": {},
   "outputs": [
    {
     "name": "stdout",
     "output_type": "stream",
     "text": [
      "\n",
      "Table 'properties' created with 1376486 records.\n",
      "\n",
      "Sample Data:\n",
      "(103378.0, 'for_sale', 105000.0, 3.0, 2.0, 0.12, 1962661.0, 'Adjuntas', 'Puerto Rico', 601, 920.0, 2, 'House', '3', '2', 'Low', 0, 18.18027, -66.75266)\n",
      "(52707.0, 'for_sale', 80000.0, 4.0, 2.0, 0.08, 1902874.0, 'Adjuntas', 'Puerto Rico', 601, 1527.0, 4, 'House', '4', '2', 'Low', 0, 18.18027, -66.75266)\n",
      "(103379.0, 'for_sale', 67000.0, 2.0, 1.0, 0.15, 1404990.0, 'Juana Diaz', 'Puerto Rico', 795, 748.0, 2, 'House', '2', '1', 'Low', 0, 18.05128, -66.49485)\n",
      "(31239.0, 'for_sale', 145000.0, 4.0, 2.0, 0.1, 1947675.0, 'Ponce', 'Puerto Rico', 731, 1800.0, 4, 'House', '4', '2', 'Low', 0, 18.09914, -66.63279)\n",
      "(103378.0, 'for_sale', 179000.0, 4.0, 3.0, 0.46, 1850806.0, 'San Sebastian', 'Puerto Rico', 612, 2520.0, 5, 'House', '4', '3', 'Low', 0, 18.41283, -66.7051)\n"
     ]
    }
   ],
   "source": [
    "df.to_sql(table_name, db_conn, if_exists=\"replace\", index=False)\n",
    "\n",
    "# Check table creation success and count records\n",
    "cursor.execute(f\"SELECT COUNT(*) FROM {table_name}\")\n",
    "print(f\"\\nTable '{table_name}' created with {cursor.fetchone()[0]} records.\")\n",
    "\n",
    "# List some data from the 'properties' table\n",
    "cursor.execute(f\"SELECT * FROM {table_name} LIMIT 5\")\n",
    "rows = cursor.fetchall()\n",
    "print(\"\\nSample Data:\")\n",
    "for row in rows:\n",
    "    print(row)"
   ]
  },
  {
   "cell_type": "code",
   "execution_count": 35,
   "id": "d0ad6a76",
   "metadata": {},
   "outputs": [
    {
     "data": {
      "text/plain": [
       "['properties']"
      ]
     },
     "execution_count": 35,
     "metadata": {},
     "output_type": "execute_result"
    }
   ],
   "source": [
    "def show_all_tables() -> list[str]:\n",
    "    \n",
    "    # Optional - uncomment the line below to print the functions being called\n",
    "    # print(' - DB CALL: show_all_tables()')\n",
    "\n",
    "    cursor = db_conn.cursor()\n",
    "\n",
    "    # Grab the names of all tables - In this case there should only be one\n",
    "    cursor.execute(\"SELECT name FROM sqlite_master WHERE type='table';\")\n",
    "\n",
    "    tables = cursor.fetchall()\n",
    "    return [t[0] for t in tables]\n",
    "\n",
    "# Test the function\n",
    "show_all_tables()"
   ]
  },
  {
   "cell_type": "code",
   "execution_count": 36,
   "id": "20941945",
   "metadata": {},
   "outputs": [
    {
     "data": {
      "text/plain": [
       "[('brokered_by', 'REAL'),\n",
       " ('status', 'TEXT'),\n",
       " ('price', 'REAL'),\n",
       " ('bed', 'REAL'),\n",
       " ('bath', 'REAL'),\n",
       " ('acre_lot', 'REAL'),\n",
       " ('street', 'REAL'),\n",
       " ('city', 'TEXT'),\n",
       " ('state', 'TEXT'),\n",
       " ('zip_code', 'INTEGER'),\n",
       " ('house_size', 'REAL'),\n",
       " ('size_bin', 'INTEGER'),\n",
       " ('property_type', 'TEXT'),\n",
       " ('bed_group', 'TEXT'),\n",
       " ('bath_group', 'TEXT'),\n",
       " ('price_category', 'TEXT'),\n",
       " ('is_luxury_home', 'INTEGER'),\n",
       " ('lat', 'REAL'),\n",
       " ('lng', 'REAL')]"
      ]
     },
     "execution_count": 36,
     "metadata": {},
     "output_type": "execute_result"
    }
   ],
   "source": [
    "def list_table_info(table_name: str) -> list[tuple[str, str]]:\n",
    "\n",
    "    # Optional - uncomment the line below to print the functions being called\n",
    "    # print(f' - DB CALL: list_table_info({table_name})')\n",
    "\n",
    "    cursor = db_conn.cursor()\n",
    "\n",
    "    cursor.execute(f\"PRAGMA table_info({table_name});\")\n",
    "\n",
    "    schema = cursor.fetchall()\n",
    "    \n",
    "    return [(col[1], col[2]) for col in schema]\n",
    "\n",
    "# Test the function\n",
    "list_table_info(\"properties\")"
   ]
  },
  {
   "cell_type": "code",
   "execution_count": 37,
   "id": "404d7e01",
   "metadata": {},
   "outputs": [],
   "source": [
    "def formatear_respuesta(data, consulta):\n",
    "    if not data:\n",
    "        return \"No se encontraron resultados.\"\n",
    "\n",
    "    if \"city\" in data[0] and \"total\" in data[0]:\n",
    "        respuesta = \"Ciudades con más propiedades según tu consulta:\\n\\n\"\n",
    "        for i, row in enumerate(data, 1):\n",
    "            respuesta += f\"{i}. {row['city']}: {row['total']} propiedades\\n\"\n",
    "        return respuesta\n",
    "\n",
    "    elif \"state\" in data[0] and \"avg_price\" in data[0]:\n",
    "        respuesta = \"Promedio de precios por estado:\\n\\n\"\n",
    "        for row in data:\n",
    "            respuesta += f\"- {row['state']}: ${round(row['avg_price'], 2):,.0f}\\n\"\n",
    "        return respuesta\n",
    "\n",
    "    # Tabla genérica si no se reconoce el patrón\n",
    "    keys = data[0].keys()\n",
    "    table = \"| \" + \" | \".join(keys) + \" |\\n\"\n",
    "    table += \"| \" + \" | \".join(\"---\" for _ in keys) + \" |\\n\"\n",
    "    for row in data:\n",
    "        table += \"| \" + \" | \".join(str(row[k]) for k in keys) + \" |\\n\"\n",
    "    return table\n"
   ]
  },
  {
   "cell_type": "code",
   "execution_count": 38,
   "id": "3ac6b4bf",
   "metadata": {},
   "outputs": [],
   "source": [
    "def query(sql: str) -> str:\n",
    "    cursor = db_conn.cursor()\n",
    "    cursor.execute(sql)\n",
    "\n",
    "    # Obtener nombres de columnas\n",
    "    columns = [desc[0] for desc in cursor.description]\n",
    "    rows = cursor.fetchall()\n",
    "\n",
    "    # Convertir a lista de diccionarios\n",
    "    data = [dict(zip(columns, row)) for row in rows]\n",
    "\n",
    "    # Formatear para el usuario\n",
    "    return formatear_respuesta(data, sql)"
   ]
  },
  {
   "cell_type": "code",
   "execution_count": 39,
   "id": "93654dc3",
   "metadata": {},
   "outputs": [],
   "source": [
    "db_tools = [show_all_tables, list_table_info, query]"
   ]
  },
  {
   "cell_type": "code",
   "execution_count": null,
   "id": "b2f3bdc1",
   "metadata": {},
   "outputs": [],
   "source": [
    "prompt = \"\"\"\n",
    " Eres un chatbot que responde preguntas usando una base de datos SQL de bienes raíces.\n",
    "\n",
    " Instrucciones:\n",
    " 1. Cuando respondas la primera pregunta, inicia con un saludo amigable (ej. \"Hola, con gusto te ayudo.\").\n",
    " 2. Siempre termina tu respuesta con una frase como \"¿Necesitas otra consulta?\".\n",
    "\n",
    " Tu flujo de trabajo:\n",
    " 1. Recibe preguntas en lenguaje natural.\n",
    " 2. Usa las herramientas disponibles:\n",
    "    - `show_all_tables`: para ver las tablas disponibles.\n",
    "    - `list_table_info`: para conocer las columnas de una tabla.\n",
    "    - `query`: para ejecutar una consulta SQL y obtener los datos.\n",
    " 3. Responde al usuario de forma clara, útil y en lenguaje natural.\n",
    " 4. No repitas datos crudos si puedes resumirlos.\n",
    "\n",
    " Ejemplos:\n",
    " - Usuario: ¿Qué ciudad tiene más casas por debajo de $400,000?\n",
    "   Tú: (usa `query` para contar propiedades con precio < 400000, agrupa por ciudad y ordena descendente)\n",
    "\n",
    " - Usuario: ¿Cuál es el promedio de precio por estado?\n",
    "   Tú: (usa `query` para agrupar por estado y calcular el promedio de precio)\n",
    "\n",
    " - Usuario: ¿Dónde hay más propiedades de lujo?\n",
    "   Tú: (usa `query` para filtrar por propiedades con precio > 1,000,000, agrupa por ciudad o estado)\n",
    "\n",
    " Siempre que tengas dudas sobre el esquema, usa `list_table_info`.\n",
    " \"\"\"\n",
    "\n"
   ]
  },
  {
   "cell_type": "code",
   "execution_count": 41,
   "id": "d6e006a6",
   "metadata": {},
   "outputs": [],
   "source": [
    "class RealEstateChatBot:\n",
    "    def __init__(self, prompt, tools, model=\"gemini-2.0-flash-lite-001\"):\n",
    "        self.prompt = prompt\n",
    "        self.tools = tools\n",
    "        self.model = model\n",
    "        self.first_turn = True\n",
    "        self.chat = client.chats.create(\n",
    "            model=self.model,\n",
    "            config=types.GenerateContentConfig(\n",
    "                system_instruction=self.prompt,\n",
    "                tools=self.tools,\n",
    "            ),\n",
    "        )\n",
    "\n",
    "    def send(self, message: str) -> str:\n",
    "        response = self.chat.send_message(message)\n",
    "        reply = response.text.strip()\n",
    "\n",
    "        if self.first_turn:\n",
    "            greeting = \"Hola! 👋 Con gusto te ayudo. \"\n",
    "            self.first_turn = False\n",
    "        else:\n",
    "            greeting = \"\"\n",
    "\n",
    "        # Evita duplicar el cierre\n",
    "        if \"¿Necesitas otra consulta?\" not in reply:\n",
    "            reply += \" ¿Necesitas otra consulta?\"\n",
    "\n",
    "        return f\"{greeting}{reply}\"\n"
   ]
  },
  {
   "cell_type": "code",
   "execution_count": 42,
   "id": "cffb67b4",
   "metadata": {},
   "outputs": [
    {
     "name": "stdout",
     "output_type": "stream",
     "text": [
      "Hola! 👋 Con gusto te ayudo. La ciudad con más casas por debajo de $400,000 es Houston, con 12,379 propiedades.\n",
      "\n",
      "¿Necesitas otra consulta?\n"
     ]
    }
   ],
   "source": [
    "bot = RealEstateChatBot(prompt, db_tools)\n",
    "\n",
    "# Interactúa con el chatbot\n",
    "print(bot.send(\"¿Qué ciudad tiene más casas por debajo de $400,000?\"))"
   ]
  },
  {
   "cell_type": "code",
   "execution_count": null,
   "id": "b10ef4bb",
   "metadata": {},
   "outputs": [],
   "source": [
    "# chat = client.chats.create(\n",
    "#     model=\"gemini-2.0-flash\",\n",
    "#     config=types.GenerateContentConfig(\n",
    "#         system_instruction=prompt,\n",
    "#         tools=db_tools,\n",
    "#     ),\n",
    "# )"
   ]
  },
  {
   "cell_type": "code",
   "execution_count": null,
   "id": "ebc06c09",
   "metadata": {},
   "outputs": [
    {
     "name": "stdout",
     "output_type": "stream",
     "text": [
      "\n",
      "Houston tiene la mayor cantidad de casas en venta por debajo de $400,000, con 12379 propiedades.\n"
     ]
    }
   ],
   "source": [
    "# resp = chat.send_message(\"cual ciudad tiene mas casas en venta por debajo de $400,000?\")\n",
    "# print(f\"\\n{resp.text}\")"
   ]
  }
 ],
 "metadata": {
  "kernelspec": {
   "display_name": ".venv",
   "language": "python",
   "name": "python3"
  },
  "language_info": {
   "codemirror_mode": {
    "name": "ipython",
    "version": 3
   },
   "file_extension": ".py",
   "mimetype": "text/x-python",
   "name": "python",
   "nbconvert_exporter": "python",
   "pygments_lexer": "ipython3",
   "version": "3.11.11"
  }
 },
 "nbformat": 4,
 "nbformat_minor": 5
}
