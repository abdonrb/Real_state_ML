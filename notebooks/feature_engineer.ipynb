{
 "cells": [
  {
   "cell_type": "code",
   "execution_count": 127,
   "id": "78c55799",
   "metadata": {},
   "outputs": [],
   "source": [
    "import pandas as pd"
   ]
  },
  {
   "cell_type": "code",
   "execution_count": 117,
   "id": "a2537fed",
   "metadata": {},
   "outputs": [],
   "source": [
    "df = pd.read_csv(r'..\\data\\raw\\realtor-data-clean.csv')"
   ]
  },
  {
   "cell_type": "code",
   "execution_count": 118,
   "id": "48aba4ab",
   "metadata": {},
   "outputs": [],
   "source": [
    "df['bed_bath_ratio'] = df['bed'] / (df['bath'] + 1e-6)"
   ]
  },
  {
   "cell_type": "code",
   "execution_count": 119,
   "id": "ba82ca22",
   "metadata": {},
   "outputs": [],
   "source": [
    "df['price_per_sqft'] = df['price'] / df['house_size']"
   ]
  },
  {
   "cell_type": "code",
   "execution_count": 120,
   "id": "85ec34a0",
   "metadata": {},
   "outputs": [],
   "source": [
    "df['total_rooms'] = df['bed'] + df['bath']"
   ]
  },
  {
   "cell_type": "code",
   "execution_count": 121,
   "id": "225cf3f1",
   "metadata": {},
   "outputs": [],
   "source": [
    "price_map = {'Low': 0, 'Medium': 1, 'High': 2, 'Luxury': 3}\n",
    "df['price_category'] = df['price_category'].map(price_map)"
   ]
  },
  {
   "cell_type": "code",
   "execution_count": 122,
   "id": "453b6bf3",
   "metadata": {},
   "outputs": [],
   "source": [
    "property_map = {'House':0,'Mansion':1}\n",
    "df['property_type'] = df['property_type'].map(property_map)"
   ]
  },
  {
   "cell_type": "code",
   "execution_count": 123,
   "id": "046f4e17",
   "metadata": {},
   "outputs": [],
   "source": [
    "df.drop(columns=['brokered_by', 'street','city'], inplace=True)"
   ]
  },
  {
   "cell_type": "code",
   "execution_count": 124,
   "id": "ef200fd7",
   "metadata": {},
   "outputs": [],
   "source": [
    "df['bed_group'] = df['bed_group'].replace('10+', '11').astype(int)\n",
    "df['bath_group'] = df['bath_group'].replace('10+', '11').astype(int)"
   ]
  },
  {
   "cell_type": "code",
   "execution_count": 125,
   "id": "a6c8ff01",
   "metadata": {},
   "outputs": [],
   "source": [
    "df['bed_group_10o+'] = df['bed_group'].apply(lambda x: 1 if x == 11 else 0)\n",
    "df['bath_group_10o+'] = df['bath_group'].apply(lambda x: 1 if x == 11 else 0)"
   ]
  },
  {
   "cell_type": "code",
   "execution_count": 126,
   "id": "6aad9742",
   "metadata": {},
   "outputs": [],
   "source": [
    "df.drop(columns=['bed', 'bath'], inplace=True)"
   ]
  },
  {
   "cell_type": "code",
   "execution_count": 128,
   "id": "ceb1825d",
   "metadata": {},
   "outputs": [],
   "source": [
    "df = pd.get_dummies(df, columns=['state', 'status'], prefix=['state', 'status'],dtype=int)"
   ]
  }
 ],
 "metadata": {
  "kernelspec": {
   "display_name": ".venv",
   "language": "python",
   "name": "python3"
  },
  "language_info": {
   "codemirror_mode": {
    "name": "ipython",
    "version": 3
   },
   "file_extension": ".py",
   "mimetype": "text/x-python",
   "name": "python",
   "nbconvert_exporter": "python",
   "pygments_lexer": "ipython3",
   "version": "3.11.11"
  }
 },
 "nbformat": 4,
 "nbformat_minor": 5
}
