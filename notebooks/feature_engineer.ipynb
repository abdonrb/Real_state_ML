{
 "cells": [
  {
   "cell_type": "code",
   "execution_count": 91,
   "id": "78c55799",
   "metadata": {},
   "outputs": [],
   "source": [
    "import pandas as pd\n",
    "from sklearn.preprocessing import LabelEncoder"
   ]
  },
  {
   "cell_type": "code",
   "execution_count": 92,
   "id": "a2537fed",
   "metadata": {},
   "outputs": [],
   "source": [
    "df = pd.read_csv(r'..\\data\\raw\\realtor-data-clean.csv')"
   ]
  },
  {
   "cell_type": "code",
   "execution_count": 93,
   "id": "48aba4ab",
   "metadata": {},
   "outputs": [],
   "source": [
    "df['bed_bath_ratio'] = df['bed'] / (df['bath'] + 1e-6)"
   ]
  },
  {
   "cell_type": "code",
   "execution_count": 94,
   "id": "ba82ca22",
   "metadata": {},
   "outputs": [],
   "source": [
    "df['price_per_sqft'] = df['price'] / df['house_size']"
   ]
  },
  {
   "cell_type": "code",
   "execution_count": 95,
   "id": "85ec34a0",
   "metadata": {},
   "outputs": [],
   "source": [
    "df['total_rooms'] = df['bed'] + df['bath']"
   ]
  },
  {
   "cell_type": "code",
   "execution_count": 96,
   "id": "225cf3f1",
   "metadata": {},
   "outputs": [],
   "source": [
    "price_map = {'Low': 0, 'Medium': 1, 'High': 2, 'Luxury': 3}\n",
    "df['price_category'] = df['price_category'].map(price_map)"
   ]
  },
  {
   "cell_type": "code",
   "execution_count": 97,
   "id": "453b6bf3",
   "metadata": {},
   "outputs": [],
   "source": [
    "property_map = {'House':0,'Mansion':1}\n",
    "df['property_type'] = df['property_type'].map(property_map)"
   ]
  },
  {
   "cell_type": "code",
   "execution_count": 98,
   "id": "046f4e17",
   "metadata": {},
   "outputs": [],
   "source": [
    "df.drop(columns=['brokered_by', 'street','city'], inplace=True)"
   ]
  },
  {
   "cell_type": "code",
   "execution_count": 99,
   "id": "ef200fd7",
   "metadata": {},
   "outputs": [],
   "source": [
    "df['bed_group'] = df['bed_group'].replace('10+', '11').astype(int)\n",
    "df['bath_group'] = df['bath_group'].replace('10+', '11').astype(int)"
   ]
  },
  {
   "cell_type": "code",
   "execution_count": 100,
   "id": "a6c8ff01",
   "metadata": {},
   "outputs": [],
   "source": [
    "df['bed_group_10o+'] = df['bed_group'].apply(lambda x: 1 if x == 11 else 0)\n",
    "df['bath_group_10o+'] = df['bath_group'].apply(lambda x: 1 if x == 11 else 0)"
   ]
  },
  {
   "cell_type": "code",
   "execution_count": 101,
   "id": "6aad9742",
   "metadata": {},
   "outputs": [],
   "source": [
    "df.drop(columns=['bed', 'bath'], inplace=True)"
   ]
  },
  {
   "cell_type": "code",
   "execution_count": 102,
   "id": "6b44a52e",
   "metadata": {},
   "outputs": [],
   "source": [
    "state_map = {\n",
    "    \"Alabama\": \"AL\", \"Alaska\": \"AK\", \"Arizona\": \"AZ\", \"Arkansas\": \"AR\", \"California\": \"CA\",\n",
    "    \"Colorado\": \"CO\", \"Connecticut\": \"CT\", \"Delaware\": \"DE\", \"Florida\": \"FL\", \"Georgia\": \"GA\",\n",
    "    \"Hawaii\": \"HI\", \"Idaho\": \"ID\", \"Illinois\": \"IL\", \"Indiana\": \"IN\", \"Iowa\": \"IA\",\n",
    "    \"Kansas\": \"KS\", \"Kentucky\": \"KY\", \"Louisiana\": \"LA\", \"Maine\": \"ME\", \"Maryland\": \"MD\",\n",
    "    \"Massachusetts\": \"MA\", \"Michigan\": \"MI\", \"Minnesota\": \"MN\", \"Mississippi\": \"MS\", \"Missouri\": \"MO\",\n",
    "    \"Montana\": \"MT\", \"Nebraska\": \"NE\", \"Nevada\": \"NV\", \"New Hampshire\": \"NH\", \"New Jersey\": \"NJ\",\n",
    "    \"New Mexico\": \"NM\", \"New York\": \"NY\", \"North Carolina\": \"NC\", \"North Dakota\": \"ND\", \"Ohio\": \"OH\",\n",
    "    \"Oklahoma\": \"OK\", \"Oregon\": \"OR\", \"Pennsylvania\": \"PA\", \"Rhode Island\": \"RI\", \"South Carolina\": \"SC\",\n",
    "    \"South Dakota\": \"SD\", \"Tennessee\": \"TN\", \"Texas\": \"TX\", \"Utah\": \"UT\", \"Vermont\": \"VT\",\n",
    "    \"Virginia\": \"VA\", \"Washington\": \"WA\", \"West Virginia\": \"WV\", \"Wisconsin\": \"WI\", \"Wyoming\": \"WY\",\n",
    "    \"District of Columbia\": \"DC\", \"Puerto Rico\": \"PR\", \"Virgin Islands\": \"VI\", \"Guam\": \"GU\"\n",
    "}\n",
    "\n",
    "# 1. Mapear abreviaciones\n",
    "df[\"state_abbr\"] = df[\"state\"].map(state_map).fillna(\"Other\")\n",
    "\n",
    "# 2. Crear 'region_group' desde abreviaciones\n",
    "noreste = [\"NY\", \"MA\", \"CT\", \"PA\", \"NJ\", \"RI\", \"NH\", \"VT\", \"ME\"]\n",
    "medio_oeste = [\"IL\", \"OH\", \"MI\", \"WI\", \"MN\", \"IA\", \"MO\", \"IN\", \"KS\", \"NE\", \"ND\", \"SD\"]\n",
    "sur = [\"TX\", \"FL\", \"GA\", \"NC\", \"SC\", \"AL\", \"TN\", \"KY\", \"MS\", \"LA\", \"VA\", \"AR\", \"WV\", \"OK\", \"DC\", \"DE\", \"MD\"]\n",
    "oeste = [\"CA\", \"WA\", \"OR\", \"NV\", \"CO\", \"AZ\", \"UT\", \"NM\", \"HI\", \"AK\", \"ID\", \"MT\", \"WY\"]\n",
    "\n",
    "def assign_region(state):\n",
    "    if state in noreste:\n",
    "        return \"Northeast\"\n",
    "    elif state in medio_oeste:\n",
    "        return \"Midwest\"\n",
    "    elif state in sur:\n",
    "        return \"South\"\n",
    "    elif state in oeste:\n",
    "        return \"West\"\n",
    "    else:\n",
    "        return \"Other\"\n",
    "\n",
    "df[\"region_group\"] = df[\"state_abbr\"].apply(assign_region)"
   ]
  },
  {
   "cell_type": "code",
   "execution_count": 103,
   "id": "99203de9",
   "metadata": {},
   "outputs": [],
   "source": [
    "encoder = ['status','region_group']\n",
    "dummies = pd.get_dummies(df[encoder], drop_first=True, dtype=int)\n",
    "\n",
    "df = df.drop(columns=encoder).join(dummies)"
   ]
  },
  {
   "cell_type": "code",
   "execution_count": 104,
   "id": "23ef3e88",
   "metadata": {},
   "outputs": [],
   "source": [
    "df.drop(columns=['state','state_abbr'],inplace=True)"
   ]
  },
  {
   "cell_type": "code",
   "execution_count": 105,
   "id": "ceb1825d",
   "metadata": {},
   "outputs": [],
   "source": [
    "# df = pd.get_dummies(df, columns=['state', 'status'], prefix=['state', 'status'],dtype=int,drop_first=True)\n",
    "# le = LabelEncoder()\n",
    "# df['state'] = le.fit_transform(df['state'])"
   ]
  },
  {
   "cell_type": "code",
   "execution_count": 107,
   "id": "bbafdc2d",
   "metadata": {},
   "outputs": [],
   "source": [
    "df.to_parquet(r'..\\data\\processed\\realtor-ml.parquet')"
   ]
  },
  {
   "cell_type": "markdown",
   "id": "210f7b6c",
   "metadata": {},
   "source": [
    "### Eliminaciones\n",
    "Se eliminaron las columnas: brokered_by, street, city, bed, bath.\n",
    "\n",
    "### Variables nuevas creadas\n",
    "- Columna nueva\tDescripción\n",
    "- bed_bath_ratio: Relación entre número de camas y baños\n",
    "- price_per_sqft: Precio dividido entre el tamaño de la casa.\n",
    "- total_rooms: Suma total debed + bath\n",
    "- price_category: Convertido a ordinal con mapeo: Low=0, ...,Luxury=3\n",
    "- property_type: Convertido al binario: House=0,Mansion=1\n",
    "\n",
    "### Agrupación y tratamiento de extremos\n",
    "- bed_groupy bath_group: se reemplazó '10+'por '11'y se convirtió en int.\n",
    "- Se crearon banderas binarias:\n",
    "- bed_group_10o+: 1 sibed_group == 11\n",
    "- bath_group_10o+: 1 sibath_group == 11\n",
    "\n",
    "### Codificación categórica\n",
    "Se aplicó One-Hot Encoding con pd.get_dummies() en: state, status con dtype=int para asegurar que las columnas resultantes sean 0 y 1."
   ]
  }
 ],
 "metadata": {
  "kernelspec": {
   "display_name": ".venv",
   "language": "python",
   "name": "python3"
  },
  "language_info": {
   "codemirror_mode": {
    "name": "ipython",
    "version": 3
   },
   "file_extension": ".py",
   "mimetype": "text/x-python",
   "name": "python",
   "nbconvert_exporter": "python",
   "pygments_lexer": "ipython3",
   "version": "3.11.11"
  }
 },
 "nbformat": 4,
 "nbformat_minor": 5
}
