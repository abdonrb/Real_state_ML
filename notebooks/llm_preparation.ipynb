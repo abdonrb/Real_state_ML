{
 "cells": [
  {
   "cell_type": "code",
   "execution_count": 37,
   "id": "71a6d6ca",
   "metadata": {},
   "outputs": [],
   "source": [
    "import pandas as pd"
   ]
  },
  {
   "cell_type": "code",
   "execution_count": 38,
   "id": "71772672",
   "metadata": {},
   "outputs": [],
   "source": [
    "df1 = pd.read_csv(r'..\\data\\raw\\uszips.csv')\n",
    "df2 = pd.read_csv(r'..\\data\\raw\\realtor-data-clean.csv')\n",
    "df2.drop(columns=['Unnamed: 0'],inplace=True)"
   ]
  },
  {
   "cell_type": "code",
   "execution_count": 39,
   "id": "fecb2956",
   "metadata": {},
   "outputs": [
    {
     "name": "stdout",
     "output_type": "stream",
     "text": [
      "<class 'pandas.core.frame.DataFrame'>\n",
      "RangeIndex: 33783 entries, 0 to 33782\n",
      "Data columns (total 18 columns):\n",
      " #   Column            Non-Null Count  Dtype  \n",
      "---  ------            --------------  -----  \n",
      " 0   zip               33783 non-null  int64  \n",
      " 1   lat               33783 non-null  float64\n",
      " 2   lng               33783 non-null  float64\n",
      " 3   city              33783 non-null  object \n",
      " 4   state_id          33783 non-null  object \n",
      " 5   state_name        33783 non-null  object \n",
      " 6   zcta              33783 non-null  bool   \n",
      " 7   parent_zcta       0 non-null      float64\n",
      " 8   population        33764 non-null  float64\n",
      " 9   density           33764 non-null  float64\n",
      " 10  county_fips       33783 non-null  int64  \n",
      " 11  county_name       33783 non-null  object \n",
      " 12  county_weights    33783 non-null  object \n",
      " 13  county_names_all  33783 non-null  object \n",
      " 14  county_fips_all   33783 non-null  object \n",
      " 15  imprecise         33783 non-null  bool   \n",
      " 16  military          33783 non-null  bool   \n",
      " 17  timezone          33783 non-null  object \n",
      "dtypes: bool(3), float64(5), int64(2), object(8)\n",
      "memory usage: 4.0+ MB\n"
     ]
    }
   ],
   "source": [
    "df1.info()"
   ]
  },
  {
   "cell_type": "code",
   "execution_count": 40,
   "id": "08d77e53",
   "metadata": {},
   "outputs": [
    {
     "data": {
      "text/plain": [
       "Index(['zip', 'lat', 'lng', 'city', 'state_id', 'state_name', 'zcta',\n",
       "       'parent_zcta', 'population', 'density', 'county_fips', 'county_name',\n",
       "       'county_weights', 'county_names_all', 'county_fips_all', 'imprecise',\n",
       "       'military', 'timezone'],\n",
       "      dtype='object')"
      ]
     },
     "execution_count": 40,
     "metadata": {},
     "output_type": "execute_result"
    }
   ],
   "source": [
    "df1.columns"
   ]
  },
  {
   "cell_type": "code",
   "execution_count": 41,
   "id": "f1849835",
   "metadata": {},
   "outputs": [],
   "source": [
    "df1 = df1.rename({'zip':'zip_code'},axis=1)"
   ]
  },
  {
   "cell_type": "code",
   "execution_count": 42,
   "id": "c549c656",
   "metadata": {},
   "outputs": [],
   "source": [
    "df2['zip_code'] = df2['zip_code'].astype('int')"
   ]
  },
  {
   "cell_type": "code",
   "execution_count": 43,
   "id": "6c455c23",
   "metadata": {},
   "outputs": [],
   "source": [
    "# Supongamos que `geo_df` tiene zipcode, lat, lon\n",
    "merged = df2.merge(df1[[\"lat\", \"lng\",'zip_code']], on=\"zip_code\", how=\"left\")\n"
   ]
  },
  {
   "cell_type": "code",
   "execution_count": 44,
   "id": "22b1eabe",
   "metadata": {},
   "outputs": [
    {
     "data": {
      "text/plain": [
       "brokered_by         0\n",
       "status              0\n",
       "price               0\n",
       "bed                 0\n",
       "bath                0\n",
       "acre_lot            0\n",
       "street              0\n",
       "city                0\n",
       "state               0\n",
       "zip_code            0\n",
       "house_size          0\n",
       "size_bin            0\n",
       "property_type       0\n",
       "bed_group           0\n",
       "bath_group          0\n",
       "price_category      0\n",
       "is_luxury_home      0\n",
       "lat               352\n",
       "lng               352\n",
       "dtype: int64"
      ]
     },
     "execution_count": 44,
     "metadata": {},
     "output_type": "execute_result"
    }
   ],
   "source": [
    "merged.isna().sum()"
   ]
  },
  {
   "cell_type": "code",
   "execution_count": 45,
   "id": "f68d7454",
   "metadata": {},
   "outputs": [],
   "source": [
    "merged.dropna(inplace=True)"
   ]
  },
  {
   "cell_type": "code",
   "execution_count": 46,
   "id": "e9853618",
   "metadata": {},
   "outputs": [
    {
     "data": {
      "text/plain": [
       "brokered_by       0\n",
       "status            0\n",
       "price             0\n",
       "bed               0\n",
       "bath              0\n",
       "acre_lot          0\n",
       "street            0\n",
       "city              0\n",
       "state             0\n",
       "zip_code          0\n",
       "house_size        0\n",
       "size_bin          0\n",
       "property_type     0\n",
       "bed_group         0\n",
       "bath_group        0\n",
       "price_category    0\n",
       "is_luxury_home    0\n",
       "lat               0\n",
       "lng               0\n",
       "dtype: int64"
      ]
     },
     "execution_count": 46,
     "metadata": {},
     "output_type": "execute_result"
    }
   ],
   "source": [
    "merged.isna().sum()"
   ]
  }
 ],
 "metadata": {
  "kernelspec": {
   "display_name": ".venv",
   "language": "python",
   "name": "python3"
  },
  "language_info": {
   "codemirror_mode": {
    "name": "ipython",
    "version": 3
   },
   "file_extension": ".py",
   "mimetype": "text/x-python",
   "name": "python",
   "nbconvert_exporter": "python",
   "pygments_lexer": "ipython3",
   "version": "3.11.11"
  }
 },
 "nbformat": 4,
 "nbformat_minor": 5
}
