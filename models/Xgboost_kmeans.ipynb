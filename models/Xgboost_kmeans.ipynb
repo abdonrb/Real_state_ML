{
 "cells": [
  {
   "cell_type": "code",
   "execution_count": 21,
   "id": "2c99bdd6",
   "metadata": {},
   "outputs": [],
   "source": [
    "## Manipulación de datos\n",
    "import pandas as pd\n",
    "import numpy as np\n",
    "import polars as pl\n",
    "\n",
    "## Visualización\n",
    "import matplotlib.pyplot as plt\n",
    "\n",
    "## Modelos\n",
    "from xgboost import XGBRegressor\n",
    "from sklearn.preprocessing import StandardScaler\n",
    "from sklearn.metrics import root_mean_squared_error,mean_absolute_percentage_error\n",
    "from sklearn.model_selection import train_test_split\n",
    "import warnings\n",
    "warnings.filterwarnings('ignore')"
   ]
  },
  {
   "cell_type": "code",
   "execution_count": 22,
   "id": "23af568f",
   "metadata": {},
   "outputs": [],
   "source": [
    "df = pl.read_parquet(r'..\\data\\processed\\realtor-ml.parquet')\n",
    "population = pl.read_csv(r'..\\data\\raw\\US Population by Zip Code.csv')"
   ]
  },
  {
   "cell_type": "code",
   "execution_count": 23,
   "id": "664b333e",
   "metadata": {},
   "outputs": [],
   "source": [
    "new_columns = population.row(0)\n",
    "\n",
    "population = (\n",
    "    population.slice(1)\n",
    "    .rename({old: new for old, new in zip(population.columns, new_columns)})\n",
    ")"
   ]
  },
  {
   "cell_type": "code",
   "execution_count": 24,
   "id": "1d3b2ee9",
   "metadata": {},
   "outputs": [
    {
     "name": "stdout",
     "output_type": "stream",
     "text": [
      "shape: (5, 2)\n",
      "┌──────────────────┬──────────┐\n",
      "│ total_population ┆ zip_code │\n",
      "│ ---              ┆ ---      │\n",
      "│ str              ┆ str      │\n",
      "╞══════════════════╪══════════╡\n",
      "│ 17242            ┆ 00601    │\n",
      "│ 37548            ┆ 00602    │\n",
      "│ 49804            ┆ 00603    │\n",
      "│ 5009             ┆ 00606    │\n",
      "│ 25731            ┆ 00610    │\n",
      "└──────────────────┴──────────┘\n"
     ]
    }
   ],
   "source": [
    "population = population.with_columns(\n",
    "    pl.col(\"Geographic Area Name\").str.splitn(\" \", 2).alias(\"split_geo\")\n",
    ").with_columns([\n",
    "    pl.col(\"split_geo\").struct.field(\"field_0\").alias(\"zcta_code\"),\n",
    "    pl.col(\"split_geo\").struct.field(\"field_1\").alias(\"zip_code\")\n",
    "]).drop(\"split_geo\")\n",
    "\n",
    "population = population.drop([\"Geographic Area Name\", \"Geography\", \"zcta_code\"])\n",
    "\n",
    "population = population.rename({\" Total Population\": \"total_population\"})\n",
    "\n",
    "print(population.head())"
   ]
  },
  {
   "cell_type": "code",
   "execution_count": 25,
   "id": "f1289a0d",
   "metadata": {},
   "outputs": [],
   "source": [
    "population = population.with_columns([\n",
    "    pl.col(\"zip_code\").cast(pl.Float64),\n",
    "    pl.col(\"total_population\").cast(pl.Float64)\n",
    "])"
   ]
  },
  {
   "cell_type": "code",
   "execution_count": 26,
   "id": "847d0c64",
   "metadata": {},
   "outputs": [],
   "source": [
    "df = df.join(population, on='zip_code', how='left')"
   ]
  },
  {
   "cell_type": "code",
   "execution_count": 27,
   "id": "4c55ad20",
   "metadata": {},
   "outputs": [],
   "source": [
    "df = df.to_pandas()"
   ]
  },
  {
   "cell_type": "code",
   "execution_count": 28,
   "id": "eae8c0fc",
   "metadata": {},
   "outputs": [
    {
     "data": {
      "text/html": [
       "<div>\n",
       "<style scoped>\n",
       "    .dataframe tbody tr th:only-of-type {\n",
       "        vertical-align: middle;\n",
       "    }\n",
       "\n",
       "    .dataframe tbody tr th {\n",
       "        vertical-align: top;\n",
       "    }\n",
       "\n",
       "    .dataframe thead th {\n",
       "        text-align: right;\n",
       "    }\n",
       "</style>\n",
       "<table border=\"1\" class=\"dataframe\">\n",
       "  <thead>\n",
       "    <tr style=\"text-align: right;\">\n",
       "      <th></th>\n",
       "      <th>price</th>\n",
       "      <th>bed</th>\n",
       "      <th>bath</th>\n",
       "      <th>acre_lot</th>\n",
       "      <th>street</th>\n",
       "      <th>city</th>\n",
       "      <th>state</th>\n",
       "      <th>zip_code</th>\n",
       "      <th>house_size</th>\n",
       "      <th>size_bin</th>\n",
       "      <th>...</th>\n",
       "      <th>price_per_sqft</th>\n",
       "      <th>total_rooms</th>\n",
       "      <th>bed_group_10o+</th>\n",
       "      <th>bath_group_10o+</th>\n",
       "      <th>status_sold</th>\n",
       "      <th>region_group_Northeast</th>\n",
       "      <th>region_group_Other</th>\n",
       "      <th>region_group_South</th>\n",
       "      <th>region_group_West</th>\n",
       "      <th>total_population</th>\n",
       "    </tr>\n",
       "  </thead>\n",
       "  <tbody>\n",
       "    <tr>\n",
       "      <th>0</th>\n",
       "      <td>105000.0</td>\n",
       "      <td>3.0</td>\n",
       "      <td>2.0</td>\n",
       "      <td>0.12</td>\n",
       "      <td>1962661.0</td>\n",
       "      <td>62</td>\n",
       "      <td>40</td>\n",
       "      <td>601.0</td>\n",
       "      <td>920.0</td>\n",
       "      <td>2</td>\n",
       "      <td>...</td>\n",
       "      <td>114.130435</td>\n",
       "      <td>5.0</td>\n",
       "      <td>0</td>\n",
       "      <td>0</td>\n",
       "      <td>0</td>\n",
       "      <td>0</td>\n",
       "      <td>1</td>\n",
       "      <td>0</td>\n",
       "      <td>0</td>\n",
       "      <td>17242.0</td>\n",
       "    </tr>\n",
       "    <tr>\n",
       "      <th>1</th>\n",
       "      <td>80000.0</td>\n",
       "      <td>4.0</td>\n",
       "      <td>2.0</td>\n",
       "      <td>0.08</td>\n",
       "      <td>1902874.0</td>\n",
       "      <td>62</td>\n",
       "      <td>40</td>\n",
       "      <td>601.0</td>\n",
       "      <td>1527.0</td>\n",
       "      <td>4</td>\n",
       "      <td>...</td>\n",
       "      <td>52.390308</td>\n",
       "      <td>6.0</td>\n",
       "      <td>0</td>\n",
       "      <td>0</td>\n",
       "      <td>0</td>\n",
       "      <td>0</td>\n",
       "      <td>1</td>\n",
       "      <td>0</td>\n",
       "      <td>0</td>\n",
       "      <td>17242.0</td>\n",
       "    </tr>\n",
       "    <tr>\n",
       "      <th>2</th>\n",
       "      <td>67000.0</td>\n",
       "      <td>2.0</td>\n",
       "      <td>1.0</td>\n",
       "      <td>0.15</td>\n",
       "      <td>1404990.0</td>\n",
       "      <td>7553</td>\n",
       "      <td>40</td>\n",
       "      <td>795.0</td>\n",
       "      <td>748.0</td>\n",
       "      <td>2</td>\n",
       "      <td>...</td>\n",
       "      <td>89.572193</td>\n",
       "      <td>3.0</td>\n",
       "      <td>0</td>\n",
       "      <td>0</td>\n",
       "      <td>0</td>\n",
       "      <td>0</td>\n",
       "      <td>1</td>\n",
       "      <td>0</td>\n",
       "      <td>0</td>\n",
       "      <td>43745.0</td>\n",
       "    </tr>\n",
       "    <tr>\n",
       "      <th>3</th>\n",
       "      <td>145000.0</td>\n",
       "      <td>4.0</td>\n",
       "      <td>2.0</td>\n",
       "      <td>0.10</td>\n",
       "      <td>1947675.0</td>\n",
       "      <td>12277</td>\n",
       "      <td>40</td>\n",
       "      <td>731.0</td>\n",
       "      <td>1800.0</td>\n",
       "      <td>4</td>\n",
       "      <td>...</td>\n",
       "      <td>80.555556</td>\n",
       "      <td>6.0</td>\n",
       "      <td>0</td>\n",
       "      <td>0</td>\n",
       "      <td>0</td>\n",
       "      <td>0</td>\n",
       "      <td>1</td>\n",
       "      <td>0</td>\n",
       "      <td>0</td>\n",
       "      <td>12292.0</td>\n",
       "    </tr>\n",
       "    <tr>\n",
       "      <th>4</th>\n",
       "      <td>179000.0</td>\n",
       "      <td>4.0</td>\n",
       "      <td>3.0</td>\n",
       "      <td>0.46</td>\n",
       "      <td>1850806.0</td>\n",
       "      <td>13607</td>\n",
       "      <td>40</td>\n",
       "      <td>612.0</td>\n",
       "      <td>2520.0</td>\n",
       "      <td>5</td>\n",
       "      <td>...</td>\n",
       "      <td>71.031746</td>\n",
       "      <td>7.0</td>\n",
       "      <td>0</td>\n",
       "      <td>0</td>\n",
       "      <td>0</td>\n",
       "      <td>0</td>\n",
       "      <td>1</td>\n",
       "      <td>0</td>\n",
       "      <td>0</td>\n",
       "      <td>62425.0</td>\n",
       "    </tr>\n",
       "  </tbody>\n",
       "</table>\n",
       "<p>5 rows × 26 columns</p>\n",
       "</div>"
      ],
      "text/plain": [
       "      price  bed  bath  acre_lot     street   city  state  zip_code  \\\n",
       "0  105000.0  3.0   2.0      0.12  1962661.0     62     40     601.0   \n",
       "1   80000.0  4.0   2.0      0.08  1902874.0     62     40     601.0   \n",
       "2   67000.0  2.0   1.0      0.15  1404990.0   7553     40     795.0   \n",
       "3  145000.0  4.0   2.0      0.10  1947675.0  12277     40     731.0   \n",
       "4  179000.0  4.0   3.0      0.46  1850806.0  13607     40     612.0   \n",
       "\n",
       "   house_size  size_bin  ...  price_per_sqft  total_rooms  bed_group_10o+  \\\n",
       "0       920.0         2  ...      114.130435          5.0               0   \n",
       "1      1527.0         4  ...       52.390308          6.0               0   \n",
       "2       748.0         2  ...       89.572193          3.0               0   \n",
       "3      1800.0         4  ...       80.555556          6.0               0   \n",
       "4      2520.0         5  ...       71.031746          7.0               0   \n",
       "\n",
       "   bath_group_10o+  status_sold  region_group_Northeast  region_group_Other  \\\n",
       "0                0            0                       0                   1   \n",
       "1                0            0                       0                   1   \n",
       "2                0            0                       0                   1   \n",
       "3                0            0                       0                   1   \n",
       "4                0            0                       0                   1   \n",
       "\n",
       "   region_group_South  region_group_West  total_population  \n",
       "0                   0                  0           17242.0  \n",
       "1                   0                  0           17242.0  \n",
       "2                   0                  0           43745.0  \n",
       "3                   0                  0           12292.0  \n",
       "4                   0                  0           62425.0  \n",
       "\n",
       "[5 rows x 26 columns]"
      ]
     },
     "execution_count": 28,
     "metadata": {},
     "output_type": "execute_result"
    }
   ],
   "source": [
    "df.head()"
   ]
  },
  {
   "cell_type": "code",
   "execution_count": 29,
   "id": "ba331acd",
   "metadata": {},
   "outputs": [
    {
     "data": {
      "text/plain": [
       "(1376838, 26)"
      ]
     },
     "execution_count": 29,
     "metadata": {},
     "output_type": "execute_result"
    }
   ],
   "source": [
    "df.shape"
   ]
  },
  {
   "cell_type": "code",
   "execution_count": 30,
   "id": "04bcb744",
   "metadata": {},
   "outputs": [
    {
     "data": {
      "image/png": "[encoded data removed]",
      "text/plain": [
       "<Figure size 640x480 with 1 Axes>"
      ]
     },
     "metadata": {},
     "output_type": "display_data"
    }
   ],
   "source": [
    "plt.hist(df['price'],bins=20);"
   ]
  },
  {
   "cell_type": "code",
   "execution_count": 31,
   "id": "024c9363",
   "metadata": {},
   "outputs": [
    {
     "data": {
      "image/png": "[encoded data removed]",
      "text/plain": [
       "<Figure size 640x480 with 1 Axes>"
      ]
     },
     "metadata": {},
     "output_type": "display_data"
    }
   ],
   "source": [
    "plt.hist(np.log10(df['price']),bins=20);"
   ]
  },
  {
   "cell_type": "code",
   "execution_count": 32,
   "id": "85b1dcc6",
   "metadata": {},
   "outputs": [],
   "source": [
    "df['price_range'] = pd.cut(df['price'], bins=[0, 500_000, 1_000_000, np.inf], labels=[0,1,2])"
   ]
  },
  {
   "cell_type": "code",
   "execution_count": 33,
   "id": "5c9a1945",
   "metadata": {},
   "outputs": [],
   "source": [
    "df.dropna(inplace=True)"
   ]
  },
  {
   "cell_type": "code",
   "execution_count": 34,
   "id": "c276d9aa",
   "metadata": {},
   "outputs": [],
   "source": [
    "df['bed_log'] = np.log1p(df['bed'])\n",
    "df['bath_log'] = np.log1p(df['bath'])\n",
    "df['house_size_log'] = np.log1p(df['house_size'])\n",
    "df['acre_lot_log'] = np.log1p(df['acre_lot'])\n",
    "df['price_sqrt'] = np.sqrt(df['price'])"
   ]
  },
  {
   "cell_type": "code",
   "execution_count": 35,
   "id": "00d4d13f",
   "metadata": {},
   "outputs": [],
   "source": [
    "df['bed_bath_balance']=df['bed_log']*df['bath_log']\n",
    "df['price_per_sqft']=df['price_sqrt']/df['house_size_log']\n",
    "df['price_per_bedroom']=df['price_sqrt']/df['bed_log']\n",
    "df['average_size_room'] = df['house_size_log'] / (df['bed_log'].replace(0, np.nan))\n",
    "df['bed_bath_ratio'] = df['bed_log'] / (df['bath_log'].replace(0, np.nan))\n",
    "df['efficient_land_use'] = df['house_size_log'] / (df['acre_lot_log'].replace(0, np.nan))\n",
    "df['bed_bath_balance_log'] = np.log1p(df['bed_bath_balance'])\n",
    "df['avg_price_by_city'] = np.log1p(df.groupby('city')['price'].transform('median'))\n",
    "df['avg_price_by_state'] = np.log1p(df.groupby('state')['price'].transform('median'))\n",
    "df['people_per_home'] = df['total_population'] / df.groupby('zip_code')['house_size'].transform('count')\n",
    "df['pop_density'] = df['total_population'] / df['acre_lot']\n",
    "df['avg_house_size_by_city'] = df.groupby('city')['house_size'].transform('median')\n",
    "df['street'] = np.log1p(df['street'])"
   ]
  },
  {
   "cell_type": "code",
   "execution_count": 36,
   "id": "7ebd57e5",
   "metadata": {},
   "outputs": [],
   "source": [
    "zip_counts = df['zip_code'].value_counts()\n",
    "valid_zips = zip_counts[zip_counts >= 10].index\n",
    "\n",
    "avg_price_zip = (\n",
    "    df[df['zip_code'].isin(valid_zips)]\n",
    "    .groupby('zip_code')['price']\n",
    "    .mean()\n",
    "    .to_dict()\n",
    ")\n",
    "\n",
    "df['avg_price_by_zip'] = df['zip_code'].map(avg_price_zip)\n",
    "\n",
    "avg_price_state = df.groupby('state')['price'].mean().to_dict()\n",
    "df['avg_price_by_state'] = df['state'].map(avg_price_state)\n",
    "\n",
    "df['avg_price_by_zip'] = df['avg_price_by_zip'].fillna(df['avg_price_by_state'])"
   ]
  },
  {
   "cell_type": "code",
   "execution_count": 37,
   "id": "5c5e7768",
   "metadata": {},
   "outputs": [],
   "source": [
    "df.dropna(inplace=True)"
   ]
  },
  {
   "cell_type": "code",
   "execution_count": 38,
   "id": "53012c2b",
   "metadata": {},
   "outputs": [],
   "source": [
    "num_features=['bed_bath_balance', 'average_size_room', 'bed_bath_ratio',\n",
    "            'efficient_land_use', 'price_per_sqft', 'price_per_bedroom']\n",
    "\n",
    "for column in num_features:\n",
    "    Q1 = df[column].quantile(0.25)\n",
    "    Q3 = df[column].quantile(0.75)\n",
    "    IQR = Q3 - Q1\n",
    "\n",
    "    lower_bound = Q1 - 1.5 * IQR\n",
    "    upper_bound = Q3 + 1.5 * IQR\n",
    "\n",
    "    df= df[(df[column] >= lower_bound) & (df[column] <= upper_bound)]"
   ]
  },
  {
   "cell_type": "code",
   "execution_count": 39,
   "id": "1920cca8",
   "metadata": {},
   "outputs": [
    {
     "data": {
      "image/png": "[encoded data removed]",
      "text/plain": [
       "<Figure size 800x500 with 1 Axes>"
      ]
     },
     "metadata": {},
     "output_type": "display_data"
    }
   ],
   "source": [
    "from sklearn.cluster import KMeans\n",
    "\n",
    "kmeans_features = ['bath', 'acre_lot', 'city', 'state', 'zip_code', 'house_size',\n",
    "       'bed_bath_ratio', 'total_rooms',\n",
    "       'total_population', 'bath_log', 'house_size_log', 'acre_lot_log',\n",
    "       'bed_bath_balance', 'average_size_room', 'efficient_land_use',\n",
    "       'bed_bath_balance_log', 'avg_price_by_city', 'avg_price_by_state',\n",
    "       'people_per_home', 'pop_density', 'avg_house_size_by_city',\n",
    "       'avg_price_by_zip','street']\n",
    "X_cluster = df[kmeans_features].copy()\n",
    "scaler = StandardScaler()\n",
    "X_scaled = scaler.fit_transform(X_cluster)\n",
    "\n",
    "inertias = []\n",
    "ks = range(1, 11)\n",
    "\n",
    "for k in ks:\n",
    "    kmeans = KMeans(n_clusters=k, random_state=42, n_init=10)\n",
    "    kmeans.fit(X_scaled)\n",
    "    inertias.append(kmeans.inertia_)\n",
    "\n",
    "# Graficar\n",
    "plt.figure(figsize=(8, 5))\n",
    "plt.plot(ks, inertias, marker='o')\n",
    "plt.title(\"Método del Codo para elegir K\")\n",
    "plt.xlabel(\"Número de clusters (k)\")\n",
    "plt.ylabel(\"Inercia (distancia total al centroide)\")\n",
    "plt.xticks(ks)\n",
    "plt.grid(True)\n",
    "plt.show()"
   ]
  },
  {
   "cell_type": "code",
   "execution_count": 40,
   "id": "c7805041",
   "metadata": {},
   "outputs": [],
   "source": [
    "kmeans = KMeans(n_clusters=3, random_state=42, n_init=10)\n",
    "df['kmeans_cluster'] = kmeans.fit_predict(X_scaled)"
   ]
  },
  {
   "cell_type": "code",
   "execution_count": 41,
   "id": "2dbfd12d",
   "metadata": {},
   "outputs": [],
   "source": [
    "X = df.drop(columns=['price', 'price_category', 'is_luxury_home', 'price_per_sqft',\n",
    "                     'property_type','bath_group','bed_group','price_range'\n",
    "                     ,'bed', 'bed_log','bed_group_10o+',\n",
    "       'bath_group_10o+'\n",
    "])\n",
    "\n",
    "y = np.log1p(df['price'])"
   ]
  },
  {
   "cell_type": "code",
   "execution_count": 42,
   "id": "df77cd56",
   "metadata": {},
   "outputs": [],
   "source": [
    "X = X[['bath', 'acre_lot', 'city', 'state', 'zip_code', 'house_size',\n",
    "       'bed_bath_ratio', 'total_rooms',\n",
    "       'total_population', 'bath_log', 'house_size_log', 'acre_lot_log',\n",
    "       'bed_bath_balance', 'average_size_room', 'efficient_land_use',\n",
    "       'bed_bath_balance_log', 'avg_price_by_city', 'avg_price_by_state',\n",
    "       'people_per_home', 'pop_density', 'avg_house_size_by_city',\n",
    "       'avg_price_by_zip','street','kmeans_cluster']]"
   ]
  },
  {
   "cell_type": "code",
   "execution_count": 43,
   "id": "db59c3eb",
   "metadata": {},
   "outputs": [],
   "source": [
    "X_train, X_test, y_train, y_test = train_test_split(X, y, test_size = 0.20, random_state = 42)"
   ]
  },
  {
   "cell_type": "code",
   "execution_count": 44,
   "id": "ab949766",
   "metadata": {},
   "outputs": [],
   "source": [
    "xgb = XGBRegressor(\n",
    "    n_estimators=300,\n",
    "    max_depth=15,\n",
    "    learning_rate=0.05,\n",
    "    subsample=0.8,\n",
    "    colsample_bytree=0.8,\n",
    "    n_jobs=-1,\n",
    "    random_state=42\n",
    ")"
   ]
  },
  {
   "cell_type": "code",
   "execution_count": 45,
   "id": "062d8a5c",
   "metadata": {},
   "outputs": [
    {
     "name": "stdout",
     "output_type": "stream",
     "text": [
      "RMSE xgb data set General: 97712.69\n",
      "MAPE xgb data set General: 18.08 %\n"
     ]
    }
   ],
   "source": [
    "xgb.fit(X_train, y_train)\n",
    "\n",
    "xgb_pred = xgb.predict(X_test)\n",
    "\n",
    "xgb_pred = np.expm1(xgb_pred)\n",
    "y_true = np.expm1(y_test)\n",
    "\n",
    "rmse = root_mean_squared_error(y_true, xgb_pred)\n",
    "mape = mean_absolute_percentage_error(y_true, xgb_pred)\n",
    "\n",
    "print('RMSE xgb data set General:', round(rmse, 2))\n",
    "print('MAPE xgb data set General:', round(mape * 100, 2), '%')"
   ]
  },
  {
   "cell_type": "code",
   "execution_count": 46,
   "id": "73dd2b21",
   "metadata": {},
   "outputs": [
    {
     "data": {
      "text/plain": [
       "kmeans_cluster\n",
       "0    422328\n",
       "1    362126\n",
       "2    202119\n",
       "Name: count, dtype: int64"
      ]
     },
     "execution_count": 46,
     "metadata": {},
     "output_type": "execute_result"
    }
   ],
   "source": [
    "df['kmeans_cluster'].value_counts()"
   ]
  },
  {
   "cell_type": "code",
   "execution_count": 47,
   "id": "c601c22b",
   "metadata": {},
   "outputs": [
    {
     "name": "stdout",
     "output_type": "stream",
     "text": [
      "Segmento 0 → MAPE randonforest: 22.39\n",
      "Segmento 0 → RMSE randonforest: 75611.63\n",
      "Segmento 1 → MAPE randonforest: 16.92\n",
      "Segmento 1 → RMSE randonforest: 125550.41\n",
      "Segmento 2 → MAPE randonforest: 11.09\n",
      "Segmento 2 → RMSE randonforest: 79634.93\n"
     ]
    }
   ],
   "source": [
    "price_range_test = df.loc[X_test.index, 'kmeans_cluster']\n",
    "for segment in [0, 1, 2]:\n",
    "    mask = price_range_test == segment\n",
    "    mape = mean_absolute_percentage_error(y_true[mask], xgb_pred[mask]) * 100\n",
    "    rmse = root_mean_squared_error(y_true[mask], xgb_pred[mask])\n",
    "    print(f\"Segmento {segment} → MAPE randonforest: {mape:.2f}\")\n",
    "    print(f\"Segmento {segment} → RMSE randonforest: {rmse:.2f}\")"
   ]
  },
  {
   "cell_type": "code",
   "execution_count": null,
   "id": "5e1714a6",
   "metadata": {},
   "outputs": [],
   "source": []
  },
  {
   "cell_type": "code",
   "execution_count": null,
   "id": "0328b15b",
   "metadata": {},
   "outputs": [],
   "source": []
  },
  {
   "cell_type": "code",
   "execution_count": null,
   "id": "7f6bb0f3",
   "metadata": {},
   "outputs": [],
   "source": []
  }
 ],
 "metadata": {
  "kernelspec": {
   "display_name": ".venv",
   "language": "python",
   "name": "python3"
  },
  "language_info": {
   "codemirror_mode": {
    "name": "ipython",
    "version": 3
   },
   "file_extension": ".py",
   "mimetype": "text/x-python",
   "name": "python",
   "nbconvert_exporter": "python",
   "pygments_lexer": "ipython3",
   "version": "3.11.11"
  }
 },
 "nbformat": 4,
 "nbformat_minor": 5
}
